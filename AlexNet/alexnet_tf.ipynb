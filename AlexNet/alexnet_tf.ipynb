{
 "cells": [
  {
   "cell_type": "code",
   "execution_count": 8,
   "metadata": {},
   "outputs": [],
   "source": [
    "import numpy as np\n",
    "import matplotlib.pyplot as plt\n",
    "%matplotlib inline\n",
    "\n",
    "import tensorflow as tf\n",
    "import keras\n",
    "from keras.models import Model\n",
    "from keras.layers import Conv2D, Dropout, MaxPool2D, Dense, Flatten, Input\n",
    "from tensorflow.nn import local_response_normalization as LRN"
   ]
  },
  {
   "attachments": {},
   "cell_type": "markdown",
   "metadata": {},
   "source": [
    "### 구조\n",
    "- Input: 224 * 224 * 3, \n",
    "- Conv2D 5층\n",
    "    - 필터 수 96, 크기 11 * 11, stride 4\n",
    "        - LRN(k = 2, n = 5, α = 10^(−4), and β = 0.75)\n",
    "        - pool(stride = 2, filter size = 3)\n",
    "    - 필터 수 256, 크기 5 * 5\n",
    "        - LRN(k = 2, n = 5, α = 10^(−4), and β = 0.75)\n",
    "        - pool(stride = 2, filter size = 3)\n",
    "    - 필터 수 384, 크기 3 * 3\n",
    "    - 필터 수 384, 크기 5 * 5\n",
    "    - 필터 수 256, 크기 5 * 5\n",
    "- FCN 3층\n",
    "    - 4096, dropout(0.5)\n",
    "    - 4096, dropout(0.5)\n",
    "    - 1000\n",
    "- weight initialization(N~(0, 0.01)): 2, 4, 5번 conv & FCN\n",
    "- batch size = 128\n",
    "- momentum = 0.9\n",
    "- weight decay = 0.0005\n",
    "- epochs 90\n",
    "- lr = 0.01\n",
    "- reduce lr on plateau: 3회, 0.1배"
   ]
  },
  {
   "cell_type": "code",
   "execution_count": 9,
   "metadata": {},
   "outputs": [
    {
     "name": "stderr",
     "output_type": "stream",
     "text": [
      "2023-01-06 21:38:50.987156: I tensorflow/compiler/xla/stream_executor/cuda/cuda_gpu_executor.cc:967] could not open file to read NUMA node: /sys/bus/pci/devices/0000:08:00.0/numa_node\n",
      "Your kernel may have been built without NUMA support.\n",
      "2023-01-06 21:38:50.987267: W tensorflow/compiler/xla/stream_executor/platform/default/dso_loader.cc:64] Could not load dynamic library 'libcudart.so.11.0'; dlerror: libcudart.so.11.0: cannot open shared object file: No such file or directory\n",
      "2023-01-06 21:38:50.987331: W tensorflow/compiler/xla/stream_executor/platform/default/dso_loader.cc:64] Could not load dynamic library 'libcublas.so.11'; dlerror: libcublas.so.11: cannot open shared object file: No such file or directory\n",
      "2023-01-06 21:38:50.987361: W tensorflow/compiler/xla/stream_executor/platform/default/dso_loader.cc:64] Could not load dynamic library 'libcublasLt.so.11'; dlerror: libcublasLt.so.11: cannot open shared object file: No such file or directory\n",
      "2023-01-06 21:38:50.987392: W tensorflow/compiler/xla/stream_executor/platform/default/dso_loader.cc:64] Could not load dynamic library 'libcufft.so.10'; dlerror: libcufft.so.10: cannot open shared object file: No such file or directory\n",
      "2023-01-06 21:38:50.987418: W tensorflow/compiler/xla/stream_executor/platform/default/dso_loader.cc:64] Could not load dynamic library 'libcurand.so.10'; dlerror: libcurand.so.10: cannot open shared object file: No such file or directory\n",
      "2023-01-06 21:38:50.987441: W tensorflow/compiler/xla/stream_executor/platform/default/dso_loader.cc:64] Could not load dynamic library 'libcusolver.so.11'; dlerror: libcusolver.so.11: cannot open shared object file: No such file or directory\n",
      "2023-01-06 21:38:50.987463: W tensorflow/compiler/xla/stream_executor/platform/default/dso_loader.cc:64] Could not load dynamic library 'libcusparse.so.11'; dlerror: libcusparse.so.11: cannot open shared object file: No such file or directory\n",
      "2023-01-06 21:38:50.987483: W tensorflow/compiler/xla/stream_executor/platform/default/dso_loader.cc:64] Could not load dynamic library 'libcudnn.so.8'; dlerror: libcudnn.so.8: cannot open shared object file: No such file or directory\n",
      "2023-01-06 21:38:50.987489: W tensorflow/core/common_runtime/gpu/gpu_device.cc:1934] Cannot dlopen some GPU libraries. Please make sure the missing libraries mentioned above are installed properly if you would like to use GPU. Follow the guide at https://www.tensorflow.org/install/gpu for how to download and setup the required libraries for your platform.\n",
      "Skipping registering GPU devices...\n",
      "2023-01-06 21:38:50.989446: I tensorflow/core/platform/cpu_feature_guard.cc:193] This TensorFlow binary is optimized with oneAPI Deep Neural Network Library (oneDNN) to use the following CPU instructions in performance-critical operations:  AVX2 FMA\n",
      "To enable them in other operations, rebuild TensorFlow with the appropriate compiler flags.\n"
     ]
    }
   ],
   "source": [
    "inputs = Input(shape=(224, 224, 3))\n",
    "\n",
    "# Conv 1\n",
    "conv1 = Conv2D(96, (11, 11), \n",
    "               strides=4, \n",
    "               activation='relu')(inputs)\n",
    "lrn1 = LRN(conv1, bias=2, depth_radius=5, alpha=0.0001, beta= 0.75)\n",
    "pool1 = MaxPool2D((3, 3), 2)(lrn1)\n",
    "\n",
    "# Conv 2\n",
    "conv2 = Conv2D(256, (5, 5), \n",
    "               strides=1, \n",
    "               activation='relu', \n",
    "               padding='same',\n",
    "               kernel_initializer=tf.random_normal_initializer(mean=0.0, stddev=0.01))(pool1)\n",
    "lrn2 = LRN(conv2, bias=2, depth_radius=5, alpha=0.0001, beta= 0.75)\n",
    "pool2 = MaxPool2D((3, 3), 2)(lrn2)\n",
    "\n",
    "# Conv 3\n",
    "conv3 = Conv2D(384, (3, 3), \n",
    "               strides=1, \n",
    "               activation='relu',\n",
    "               padding='same')(pool2)\n",
    "\n",
    "# Conv 4\n",
    "conv4 = Conv2D(384, (5, 5), \n",
    "               strides=1, \n",
    "               activation='relu',\n",
    "               padding='same')(conv3)\n",
    "\n",
    "# Conv 5\n",
    "conv5 = Conv2D(256, (5, 5), \n",
    "               strides=1, \n",
    "               activation='relu',\n",
    "               padding='same')(conv4)\n",
    "pool3 = MaxPool2D((3, 3), 2)(conv5)\n",
    "\n",
    "# FCN 1\n",
    "flat = Flatten()(pool3)\n",
    "fcn1 = Dense(4096, activation='relu',\n",
    "             kernel_initializer=tf.random_normal_initializer(mean=0.0, stddev=0.01))(flat)\n",
    "drop1 = Dropout(0.5)(fcn1)\n",
    "\n",
    "# FCN 2\n",
    "fcn2 = Dense(4096, activation='relu',\n",
    "             kernel_initializer=tf.random_normal_initializer(mean=0.0, stddev=0.01))(drop1)\n",
    "drop2 = Dropout(0.5)(fcn2)\n",
    "\n",
    "# FCN 3\n",
    "fcn3 = Dense(1000, activation='softmax')(drop2)\n",
    "\n",
    "model = Model(inputs=inputs, outputs=fcn3)"
   ]
  },
  {
   "cell_type": "code",
   "execution_count": 10,
   "metadata": {},
   "outputs": [
    {
     "name": "stdout",
     "output_type": "stream",
     "text": [
      "Model: \"model\"\n",
      "_________________________________________________________________\n",
      " Layer (type)                Output Shape              Param #   \n",
      "=================================================================\n",
      " input_1 (InputLayer)        [(None, 224, 224, 3)]     0         \n",
      "                                                                 \n",
      " conv2d (Conv2D)             (None, 54, 54, 96)        34944     \n",
      "                                                                 \n",
      " tf.nn.local_response_normal  (None, 54, 54, 96)       0         \n",
      " ization (TFOpLambda)                                            \n",
      "                                                                 \n",
      " max_pooling2d (MaxPooling2D  (None, 26, 26, 96)       0         \n",
      " )                                                               \n",
      "                                                                 \n",
      " conv2d_1 (Conv2D)           (None, 26, 26, 256)       614656    \n",
      "                                                                 \n",
      " tf.nn.local_response_normal  (None, 26, 26, 256)      0         \n",
      " ization_1 (TFOpLambda)                                          \n",
      "                                                                 \n",
      " max_pooling2d_1 (MaxPooling  (None, 12, 12, 256)      0         \n",
      " 2D)                                                             \n",
      "                                                                 \n",
      " conv2d_2 (Conv2D)           (None, 12, 12, 384)       885120    \n",
      "                                                                 \n",
      " conv2d_3 (Conv2D)           (None, 12, 12, 384)       3686784   \n",
      "                                                                 \n",
      " conv2d_4 (Conv2D)           (None, 12, 12, 256)       2457856   \n",
      "                                                                 \n",
      " max_pooling2d_2 (MaxPooling  (None, 5, 5, 256)        0         \n",
      " 2D)                                                             \n",
      "                                                                 \n",
      " flatten (Flatten)           (None, 6400)              0         \n",
      "                                                                 \n",
      " dense (Dense)               (None, 4096)              26218496  \n",
      "                                                                 \n",
      " dropout (Dropout)           (None, 4096)              0         \n",
      "                                                                 \n",
      " dense_1 (Dense)             (None, 4096)              16781312  \n",
      "                                                                 \n",
      " dropout_1 (Dropout)         (None, 4096)              0         \n",
      "                                                                 \n",
      " dense_2 (Dense)             (None, 1000)              4097000   \n",
      "                                                                 \n",
      "=================================================================\n",
      "Total params: 54,776,168\n",
      "Trainable params: 54,776,168\n",
      "Non-trainable params: 0\n",
      "_________________________________________________________________\n"
     ]
    }
   ],
   "source": [
    "model.summary()"
   ]
  },
  {
   "cell_type": "code",
   "execution_count": null,
   "metadata": {},
   "outputs": [],
   "source": []
  }
 ],
 "metadata": {
  "kernelspec": {
   "display_name": "tf",
   "language": "python",
   "name": "python3"
  },
  "language_info": {
   "codemirror_mode": {
    "name": "ipython",
    "version": 3
   },
   "file_extension": ".py",
   "mimetype": "text/x-python",
   "name": "python",
   "nbconvert_exporter": "python",
   "pygments_lexer": "ipython3",
   "version": "3.8.15"
  },
  "orig_nbformat": 4,
  "vscode": {
   "interpreter": {
    "hash": "3d0d467e1d2c9814bb9baf2220f3666f1feeb24a48d9886e0c67d6c87223240c"
   }
  }
 },
 "nbformat": 4,
 "nbformat_minor": 2
}
